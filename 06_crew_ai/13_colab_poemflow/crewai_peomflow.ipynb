{
 "cells": [
  {
   "cell_type": "markdown",
   "metadata": {
    "id": "ANCxcFs-qVl4"
   },
   "source": [
    "# crewai-poemflow\n",
    "By [Zia Khan](https://www.linkedin.com/in/ziaukhan/)\n",
    "\n",
    "Github repo: https://github.com/panaversity/learn-agentic-ai/tree/main/05_crew_ai\n",
    "\n",
    "Docs: https://docs.crewai.com/concepts/flows\n",
    "\n",
    "Simplified version of a **flows** CrewAI which is giving an error when I run it."
   ]
  },
  {
   "cell_type": "code",
   "execution_count": null,
   "metadata": {
    "ExecuteTime": {
     "end_time": "2024-05-17T18:19:19.351863Z",
     "start_time": "2024-05-17T18:19:19.350191Z"
    },
    "id": "NsNLa6Qu0JEK"
   },
   "outputs": [],
   "source": [
    "# @title 👨‍🦯 Run this cell to hide all warnings (optional)\n",
    "# Warning control\n",
    "import warnings\n",
    "warnings.filterwarnings('ignore')\n",
    "\n",
    "# To avoid the restart session warning in Colab, exclude the PIL and\n",
    "# pydevd_plugins packages from being imported. This is fine because\n",
    "# we didn't execute the code in the kernel session afterward.\n",
    "\n",
    "# import sys\n",
    "# sys.modules.pop('PIL', None)"
   ]
  },
  {
   "cell_type": "code",
   "execution_count": null,
   "metadata": {
    "ExecuteTime": {
     "end_time": "2024-05-17T18:20:26.741468Z",
     "start_time": "2024-05-17T18:19:29.015624Z"
    },
    "id": "P8iHNKCfk9Rv"
   },
   "outputs": [],
   "source": [
    "import nest_asyncio\n",
    "nest_asyncio.apply()"
   ]
  },
  {
   "cell_type": "code",
   "execution_count": null,
   "metadata": {
    "ExecuteTime": {
     "end_time": "2024-05-17T18:20:26.741468Z",
     "start_time": "2024-05-17T18:19:29.015624Z"
    },
    "id": "7Wto7lI5OWFA"
   },
   "outputs": [],
   "source": [
    "# @title ⬇️ Install project dependencies by running this cell\n",
    "%pip install git+https://github.com/joaomdmoura/crewAI.git --quiet\n",
    "%pip install crewai_tools langchain-google-genai langchain_community --quiet\n",
    "print(\"---\")\n",
    "%pip show crewAI crewai_tools langchain-google-genai langchain_community"
   ]
  },
  {
   "cell_type": "code",
   "execution_count": null,
   "metadata": {
    "ExecuteTime": {
     "end_time": "2024-05-17T18:26:09.810103Z",
     "start_time": "2024-05-17T18:25:59.838229Z"
    },
    "id": "BhAt-unGk4kA"
   },
   "outputs": [],
   "source": [
    "# @title 🔑 Import libs and get API Key by running this cell\n",
    "\n",
    "import os\n",
    "from crewai import Agent, Task, Crew, Process\n",
    "from textwrap import dedent\n",
    "from random import randint\n",
    "from pydantic import BaseModel\n",
    "from crewai.flow.flow import Flow, listen, start\n",
    "from google.colab import userdata\n",
    "\n",
    "GEMINI_API_KEY = userdata.get('GEMINI_API_KEY')\n",
    "\n",
    "# Check if the 'output-files' directory exists, and create it if it doesn't\n",
    "if not os.path.exists('output-files'):\n",
    "    os.makedirs('output-files')"
   ]
  },
  {
   "cell_type": "code",
   "execution_count": null,
   "metadata": {
    "ExecuteTime": {
     "end_time": "2024-05-17T18:26:14.680431Z",
     "start_time": "2024-05-17T18:26:14.561004Z"
    },
    "id": "hZJwUoXasrhx"
   },
   "outputs": [],
   "source": [
    "# @title 🕵🏻 Define your crews, agents and tasks\n",
    "\n",
    "\n",
    "def createPoemCrew()->Crew:\n",
    "\n",
    "    # Initialize the Gemini LLM\n",
    "    llm = ChatGoogleGenerativeAI(\n",
    "        model=\"gemini-1.5-flash\",\n",
    "        verbose=True,\n",
    "        temperature=0.5,\n",
    "        google_api_key=GEMINI_API_KEY\n",
    "    )\n",
    "\n",
    "\n",
    "    #https://docs.crewai.com/concepts/agents#creating-an-agent\n",
    "    poem_writer: Agent = Agent(\n",
    "    role='CrewAI Poem Writer',\n",
    "    goal=\"\"\"Generate a funny, light heartedpoem about how CrewAI is\n",
    "            awesome with a sentence count of {sentence_count}\"\"\",\n",
    "    backstory=\"\"\"You're a creative poet with a talent for capturing the essence of any topic\n",
    "        in a beautiful and engaging way. Known for your ability to craft poems that\n",
    "        resonate with readers, you bring a unique perspective and artistic flair to\n",
    "        every piece you write.\"\"\",\n",
    "    llm=llm,\n",
    "    allow_delegation=True,\n",
    "    verbose=True,\n",
    "    memory=True\n",
    "    )\n",
    "\n",
    "    #https://docs.crewai.com/concepts/tasks#creating-a-task\n",
    "    write_poem: Task = Task(\n",
    "        description=\"\"\"Write a poem about how CrewAI is awesome.\n",
    "        Ensure the poem is engaging and adheres to the specified\n",
    "        sentence count of {sentence_count}.\"\"\",\n",
    "        agent=poem_writer,\n",
    "        expected_output='A beautifully crafted poem about CrewAI, with exactly {sentence_count} sentences.',\n",
    "    )\n",
    "\n",
    "    #https://docs.crewai.com/concepts/crews\n",
    "    return Crew(\n",
    "                agents=[poem_writer], # Automatically created by the @agent decorator\n",
    "                tasks=[write_poem], # Automatically created by the @task decorator\n",
    "                process=Process.sequential,\n",
    "                verbose=True,\n",
    "            )\n"
   ]
  },
  {
   "cell_type": "code",
   "execution_count": null,
   "metadata": {
    "ExecuteTime": {
     "end_time": "2024-05-17T18:26:17.691Z",
     "start_time": "2024-05-17T18:26:17.687416Z"
    },
    "id": "dqtn3w1qs-Bu"
   },
   "outputs": [],
   "source": [
    "# @title 📝 Define your Flows and State\n",
    "# Task Definitions\n",
    "\n",
    "class PoemState(BaseModel):\n",
    "    sentence_count: int = 1\n",
    "    poem: str = \"\"\n",
    "\n",
    "\n",
    "class PoemFlow(Flow[PoemState]):\n",
    "\n",
    "    @start()\n",
    "    def generate_sentence_count(self):\n",
    "        print(\"Generating sentence count\")\n",
    "        self.state.sentence_count = randint(1, 5)\n",
    "\n",
    "    @listen(generate_sentence_count)\n",
    "    def generate_poem(self):\n",
    "        print(\"Generating poem\")\n",
    "        result = (\n",
    "            createPoemCrew()\n",
    "            .kickoff(inputs={\"sentence_count\": self.state.sentence_count})\n",
    "        )\n",
    "\n",
    "        print(\"Poem generated\", result.raw)\n",
    "        self.state.poem = result.raw\n",
    "\n",
    "    @listen(generate_poem)\n",
    "    def save_poem(self):\n",
    "        print(\"Saving poem\")\n",
    "        with open(\"poem.txt\", \"w\") as f:\n",
    "            f.write(self.state.poem)\n",
    "\n"
   ]
  },
  {
   "cell_type": "code",
   "execution_count": null,
   "metadata": {
    "ExecuteTime": {
     "end_time": "2024-05-17T18:26:27.178968Z",
     "start_time": "2024-05-17T18:26:19.601235Z"
    },
    "id": "HfJRdGHesMwn"
   },
   "outputs": [],
   "source": [
    "# @title ⌨️ Define your kickoff and plot functions\n",
    "\n",
    "def kickoff():\n",
    "    poem_flow = PoemFlow()\n",
    "    return poem_flow.kickoff()\n",
    "\n",
    "\n",
    "def plot():\n",
    "    poem_flow = PoemFlow()\n",
    "    poem_flow.plot()\n",
    "\n"
   ]
  },
  {
   "cell_type": "code",
   "execution_count": null,
   "metadata": {
    "ExecuteTime": {
     "end_time": "2024-05-17T18:26:49.752419Z",
     "start_time": "2024-05-17T18:26:33.273949Z"
    },
    "id": "nrBn8dMlxfCn"
   },
   "outputs": [],
   "source": [
    "# @title 🚀 Get your flow to work and print final output\n",
    "\n",
    "final_output = kickoff()\n",
    "\n",
    "print(\"---- Final Output ----\")\n",
    "print(final_output)"
   ]
  },
  {
   "cell_type": "markdown",
   "metadata": {
    "id": "v1YDhb5c9yHw"
   },
   "source": []
  },
  {
   "cell_type": "markdown",
   "metadata": {
    "id": "E7ARy7qp-GaH"
   },
   "source": [
    "RuntimeError: asyncio.run() cannot be called from a running event loop\n",
    "\n",
    "The error message RuntimeError: asyncio.run() cannot be called from a running event loop is occurring because you are trying to use asyncio.run() within a Jupyter Notebook environment, which already has a running event loop. asyncio.run() is designed to be the entry point for asynchronous programs and is not intended to be called from within an existing event loop.\n",
    "\n",
    "In the code, within the crewai.flow.flow.py module's kickoff function, asyncio.run() is used to execute the kickoff_async function. Since Jupyter notebooks already run an asyncio event loop in the background, this creates a conflict resulting in the observed error."
   ]
  },
  {
   "cell_type": "code",
   "execution_count": null,
   "metadata": {
    "id": "S6WlHG92HCt9"
   },
   "outputs": [],
   "source": [
    "!crewai flow kickoff"
   ]
  },
  {
   "cell_type": "code",
   "execution_count": null,
   "metadata": {
    "id": "O_iJhpyTI6ej"
   },
   "outputs": [],
   "source": [
    "!uv run kickoff"
   ]
  },
  {
   "cell_type": "code",
   "execution_count": null,
   "metadata": {
    "id": "LgKw1aapIdee"
   },
   "outputs": [],
   "source": [
    "!pip install colab-xterm\n",
    "%load_ext colabxterm\n",
    "%xterm"
   ]
  }
 ],
 "metadata": {
  "colab": {
   "private_outputs": true,
   "provenance": []
  },
  "kernelspec": {
   "display_name": "Python 3 (ipykernel)",
   "language": "python",
   "name": "python3"
  },
  "language_info": {
   "name": "python"
  }
 },
 "nbformat": 4,
 "nbformat_minor": 0
}
