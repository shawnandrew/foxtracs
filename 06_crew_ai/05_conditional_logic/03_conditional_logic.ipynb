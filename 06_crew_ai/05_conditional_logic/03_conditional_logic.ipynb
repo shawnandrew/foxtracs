{
  "nbformat": 4,
  "nbformat_minor": 0,
  "metadata": {
    "colab": {
      "provenance": []
    },
    "kernelspec": {
      "name": "python3",
      "display_name": "Python 3"
    },
    "language_info": {
      "name": "python"
    }
  },
  "cells": [
    {
      "cell_type": "code",
      "execution_count": 11,
      "metadata": {
        "id": "OrEI-4bZFHEf"
      },
      "outputs": [],
      "source": [
        "import warnings\n",
        "warnings.filterwarnings('ignore')"
      ]
    },
    {
      "cell_type": "code",
      "source": [
        "!pip install -Uq crewai  'crewai[tools]' crewai-tools\n"
      ],
      "metadata": {
        "id": "cVRuyVerFRY-"
      },
      "execution_count": 12,
      "outputs": []
    },
    {
      "cell_type": "code",
      "source": [
        "import nest_asyncio\n",
        "nest_asyncio.apply()"
      ],
      "metadata": {
        "id": "0jgsZQbVFtIJ"
      },
      "execution_count": 13,
      "outputs": []
    },
    {
      "cell_type": "code",
      "source": [
        "from crewai.flow.flow import Flow, listen, start, or_\n",
        "\n",
        "class OrExampleFlow(Flow):\n",
        "    @start()\n",
        "    def task_a(self)->str:\n",
        "        return \"Output from task A\"\n",
        "\n",
        "    @start()\n",
        "    def task_b(self)->str:\n",
        "        return \"Output from task B\"\n",
        "\n",
        "    @listen(or_(task_a, task_b))\n",
        "    def task_c(self, result)->str:\n",
        "        print(f\"Task C received: {result}\")\n",
        "        return \"Output from task C\"\n",
        "\n",
        "flow : OrExampleFlow = OrExampleFlow()\n",
        "flow.kickoff()"
      ],
      "metadata": {
        "id": "ppOaEghCFkoi",
        "colab": {
          "base_uri": "https://localhost:8080/",
          "height": 70
        },
        "outputId": "a59d9e31-9e90-4db8-dfa3-77925b61714b"
      },
      "execution_count": 14,
      "outputs": [
        {
          "output_type": "stream",
          "name": "stdout",
          "text": [
            "Task C received: Output from task A\n",
            "Task C received: Output from task B\n"
          ]
        },
        {
          "output_type": "execute_result",
          "data": {
            "text/plain": [
              "'Output from task C'"
            ],
            "application/vnd.google.colaboratory.intrinsic+json": {
              "type": "string"
            }
          },
          "metadata": {},
          "execution_count": 14
        }
      ]
    },
    {
      "cell_type": "markdown",
      "source": [
        "# Using and_ for Conditional Execution"
      ],
      "metadata": {
        "id": "Jsgd64PqHDA_"
      }
    },
    {
      "cell_type": "code",
      "source": [
        "from crewai.flow.flow import Flow, and_, listen, start\n",
        "\n",
        "class AndExampleFlow(Flow):\n",
        "\n",
        "    @start()\n",
        "    def start_method(self)->None:\n",
        "        self.state[\"greeting\"] = \"Hello from the start method\"\n",
        "\n",
        "    @listen(start_method)\n",
        "    def second_method(self)->None:\n",
        "        self.state[\"joke\"] = \"What do computers eat? Microchips.\"\n",
        "\n",
        "    @listen(and_(start_method, second_method))\n",
        "    def logger(self)->None:\n",
        "        print(\"---- Logger ----\")\n",
        "        print(self.state)\n",
        "\n",
        "flow : AndExampleFlow = AndExampleFlow()\n",
        "flow.kickoff()\n"
      ],
      "metadata": {
        "colab": {
          "base_uri": "https://localhost:8080/"
        },
        "id": "oH5GgrbiLLNT",
        "outputId": "330a554c-eda2-4a74-b82a-0933d27cbd70"
      },
      "execution_count": 17,
      "outputs": [
        {
          "output_type": "stream",
          "name": "stdout",
          "text": [
            "---- Logger ----\n",
            "{'greeting': 'Hello from the start method', 'joke': 'What do computers eat? Microchips.'}\n"
          ]
        }
      ]
    },
    {
      "cell_type": "code",
      "source": [
        "from crewai.flow.flow import Flow, listen, start, and_\n",
        "\n",
        "class AndExampleFlow(Flow):\n",
        "    @start()\n",
        "    def task_x(self) -> str:\n",
        "        return \"Output from task X\"\n",
        "\n",
        "    @start()\n",
        "    def task_y(self) -> str:\n",
        "        return \"Output from task Y\"\n",
        "\n",
        "    @listen(and_(task_x, task_y))\n",
        "    def task_z(self, results) -> str:\n",
        "        print(f'......result: {results}')\n",
        "        # result_x, result_y = results\n",
        "        # print(f\"Task Z received: {results}\")\n",
        "        return \"Output from task Z\"\n",
        "\n",
        "flow = AndExampleFlow()\n",
        "flow.kickoff()\n"
      ],
      "metadata": {
        "colab": {
          "base_uri": "https://localhost:8080/",
          "height": 53
        },
        "id": "Zfni5hXUHMdS",
        "outputId": "f5b6c130-1c88-4416-a66a-faeed8d63faf"
      },
      "execution_count": 15,
      "outputs": [
        {
          "output_type": "stream",
          "name": "stdout",
          "text": [
            "......result: Output from task Y\n"
          ]
        },
        {
          "output_type": "execute_result",
          "data": {
            "text/plain": [
              "'Output from task Z'"
            ],
            "application/vnd.google.colaboratory.intrinsic+json": {
              "type": "string"
            }
          },
          "metadata": {},
          "execution_count": 15
        }
      ]
    },
    {
      "cell_type": "code",
      "source": [],
      "metadata": {
        "id": "bC6Bt7GcMEct"
      },
      "execution_count": null,
      "outputs": []
    }
  ]
}